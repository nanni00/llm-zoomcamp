{
 "cells": [
  {
   "cell_type": "markdown",
   "id": "f9f12263-7a98-4911-8309-8a175715da4b",
   "metadata": {},
   "source": [
    "# Q1. Embedding the query"
   ]
  },
  {
   "cell_type": "code",
   "execution_count": 52,
   "id": "447e988d-0fdb-4a11-9011-bc8e33b37706",
   "metadata": {},
   "outputs": [],
   "source": [
    "import numpy as np\n",
    "from qdrant_client import models, QdrantClient\n",
    "from fastembed import TextEmbedding"
   ]
  },
  {
   "cell_type": "code",
   "execution_count": 18,
   "id": "0c0cf640-616b-4076-8018-c92b38e4c40a",
   "metadata": {},
   "outputs": [],
   "source": [
    "query = \"I just discovered the course. Can I join now?\""
   ]
  },
  {
   "cell_type": "code",
   "execution_count": 19,
   "id": "5f953462-3e96-4df8-94fe-c98613a4fb9f",
   "metadata": {},
   "outputs": [],
   "source": [
    "model_name = \"jinaai/jina-embeddings-v2-small-en\""
   ]
  },
  {
   "cell_type": "code",
   "execution_count": 20,
   "id": "9771d3b0-1136-4135-8361-1536c8cf517f",
   "metadata": {},
   "outputs": [],
   "source": [
    "embedding_model = TextEmbedding(model_name)"
   ]
  },
  {
   "cell_type": "code",
   "execution_count": 21,
   "id": "38166d55-5a2d-4dcf-80dc-ad8616218ebf",
   "metadata": {},
   "outputs": [
    {
     "data": {
      "text/plain": [
       "np.float64(-0.11726373885183883)"
      ]
     },
     "execution_count": 21,
     "metadata": {},
     "output_type": "execute_result"
    }
   ],
   "source": [
    "q = list(embedding_model.embed(query))[0]\n",
    "q.min()"
   ]
  },
  {
   "cell_type": "markdown",
   "id": "f24924ba-f831-4254-a438-84c780d0fcba",
   "metadata": {},
   "source": [
    "# Q2. Cosine similarity with another vector"
   ]
  },
  {
   "cell_type": "code",
   "execution_count": 15,
   "id": "2a49999b-306e-4c00-9f21-faa3d950ccc1",
   "metadata": {},
   "outputs": [],
   "source": [
    "doc = 'Can I still join the course after the start date?'"
   ]
  },
  {
   "cell_type": "code",
   "execution_count": 16,
   "id": "8c882db9-0f0d-448b-aa55-b6487b7c69d1",
   "metadata": {},
   "outputs": [],
   "source": [
    "d = list(embedding_model.embed(doc))[0]"
   ]
  },
  {
   "cell_type": "code",
   "execution_count": 24,
   "id": "417b1be5-4171-4ca8-b5f5-3e1633891b3c",
   "metadata": {},
   "outputs": [
    {
     "data": {
      "text/plain": [
       "np.float64(0.9008528895674548)"
      ]
     },
     "execution_count": 24,
     "metadata": {},
     "output_type": "execute_result"
    }
   ],
   "source": [
    "q.dot(d)"
   ]
  },
  {
   "cell_type": "markdown",
   "id": "ea6f6306-946a-4c2e-9ad0-11272fa5e6e0",
   "metadata": {},
   "source": [
    "# Q3. Ranking by cosine"
   ]
  },
  {
   "cell_type": "code",
   "execution_count": 25,
   "id": "acd25bdf-4017-4f73-ab69-ebc32b7df7bf",
   "metadata": {},
   "outputs": [],
   "source": [
    "documents = [{'text': \"Yes, even if you don't register, you're still eligible to submit the homeworks.\\nBe aware, however, that there will be deadlines for turning in the final projects. So don't leave everything for the last minute.\",\n",
    "  'section': 'General course-related questions',\n",
    "  'question': 'Course - Can I still join the course after the start date?',\n",
    "  'course': 'data-engineering-zoomcamp'},\n",
    " {'text': 'Yes, we will keep all the materials after the course finishes, so you can follow the course at your own pace after it finishes.\\nYou can also continue looking at the homeworks and continue preparing for the next cohort. I guess you can also start working on your final capstone project.',\n",
    "  'section': 'General course-related questions',\n",
    "  'question': 'Course - Can I follow the course after it finishes?',\n",
    "  'course': 'data-engineering-zoomcamp'},\n",
    " {'text': \"The purpose of this document is to capture frequently asked technical questions\\nThe exact day and hour of the course will be 15th Jan 2024 at 17h00. The course will start with the first  “Office Hours'' live.1\\nSubscribe to course public Google Calendar (it works from Desktop only).\\nRegister before the course starts using this link.\\nJoin the course Telegram channel with announcements.\\nDon’t forget to register in DataTalks.Club's Slack and join the channel.\",\n",
    "  'section': 'General course-related questions',\n",
    "  'question': 'Course - When will the course start?',\n",
    "  'course': 'data-engineering-zoomcamp'},\n",
    " {'text': 'You can start by installing and setting up all the dependencies and requirements:\\nGoogle cloud account\\nGoogle Cloud SDK\\nPython 3 (installed with Anaconda)\\nTerraform\\nGit\\nLook over the prerequisites and syllabus to see if you are comfortable with these subjects.',\n",
    "  'section': 'General course-related questions',\n",
    "  'question': 'Course - What can I do before the course starts?',\n",
    "  'course': 'data-engineering-zoomcamp'},\n",
    " {'text': 'Star the repo! Share it with friends if you find it useful ❣️\\nCreate a PR if you see you can improve the text or the structure of the repository.',\n",
    "  'section': 'General course-related questions',\n",
    "  'question': 'How can we contribute to the course?',\n",
    "  'course': 'data-engineering-zoomcamp'}]"
   ]
  },
  {
   "cell_type": "code",
   "execution_count": 26,
   "id": "a6721c29-8344-4e4b-86d5-f5a5e70c05a7",
   "metadata": {},
   "outputs": [],
   "source": [
    "embs = [\n",
    "    list(embedding_model.embed(document['text']))[0]\n",
    "    for document in documents\n",
    "]"
   ]
  },
  {
   "cell_type": "code",
   "execution_count": 31,
   "id": "a4dfeb04-df0c-4f95-9367-4b42277fc02b",
   "metadata": {},
   "outputs": [
    {
     "data": {
      "text/plain": [
       "(5, 5, [512, 512, 512, 512, 512])"
      ]
     },
     "execution_count": 31,
     "metadata": {},
     "output_type": "execute_result"
    }
   ],
   "source": [
    "len(documents), len(embs), [len(e) for e in embs]"
   ]
  },
  {
   "cell_type": "code",
   "execution_count": 34,
   "id": "74209319-25e9-4149-93a3-c49948162e91",
   "metadata": {},
   "outputs": [
    {
     "data": {
      "text/plain": [
       "(5, 512)"
      ]
     },
     "execution_count": 34,
     "metadata": {},
     "output_type": "execute_result"
    }
   ],
   "source": [
    "V = np.array(embs)\n",
    "V.shape"
   ]
  },
  {
   "cell_type": "code",
   "execution_count": 39,
   "id": "e2e033b7-4080-48fb-8788-3819026fe4dc",
   "metadata": {},
   "outputs": [
    {
     "data": {
      "text/plain": [
       "[(1, np.float64(0.8182378150042889)),\n",
       " (2, np.float64(0.8085397398734188)),\n",
       " (0, np.float64(0.7629684696540238)),\n",
       " (4, np.float64(0.7304499234333598)),\n",
       " (3, np.float64(0.7133079015686243))]"
      ]
     },
     "execution_count": 39,
     "metadata": {},
     "output_type": "execute_result"
    }
   ],
   "source": [
    "sorted(enumerate(V.dot(q)), key=lambda x: x[1], reverse=True)"
   ]
  },
  {
   "cell_type": "markdown",
   "id": "005937db-76d9-4ec3-9b7f-93d734722863",
   "metadata": {},
   "source": [
    "# Q4. Ranking by cosine, version two"
   ]
  },
  {
   "cell_type": "code",
   "execution_count": 40,
   "id": "802477e1-de3f-476b-9163-133397198301",
   "metadata": {},
   "outputs": [],
   "source": [
    "embs = [\n",
    "    list(embedding_model.embed(document['question'] + ' ' + document['text']))[0]\n",
    "    for document in documents\n",
    "]"
   ]
  },
  {
   "cell_type": "code",
   "execution_count": 41,
   "id": "33b90162-5794-4012-a506-4b0973adcada",
   "metadata": {},
   "outputs": [
    {
     "data": {
      "text/plain": [
       "(5, 5, [512, 512, 512, 512, 512])"
      ]
     },
     "execution_count": 41,
     "metadata": {},
     "output_type": "execute_result"
    }
   ],
   "source": [
    "len(documents), len(embs), [len(e) for e in embs]"
   ]
  },
  {
   "cell_type": "code",
   "execution_count": 42,
   "id": "536bc566-5856-44f3-bcf1-83dbcee215da",
   "metadata": {},
   "outputs": [
    {
     "data": {
      "text/plain": [
       "(5, 512)"
      ]
     },
     "execution_count": 42,
     "metadata": {},
     "output_type": "execute_result"
    }
   ],
   "source": [
    "V = np.array(embs)\n",
    "V.shape"
   ]
  },
  {
   "cell_type": "code",
   "execution_count": 43,
   "id": "1952ea29-1bdc-4d66-b119-147f855c5907",
   "metadata": {},
   "outputs": [
    {
     "data": {
      "text/plain": [
       "[(0, np.float64(0.8514543236908068)),\n",
       " (1, np.float64(0.8436594159113069)),\n",
       " (2, np.float64(0.840828704850256)),\n",
       " (4, np.float64(0.8086007795043939)),\n",
       " (3, np.float64(0.7755157969663907))]"
      ]
     },
     "execution_count": 43,
     "metadata": {},
     "output_type": "execute_result"
    }
   ],
   "source": [
    "sorted(enumerate(V.dot(q)), key=lambda x: x[1], reverse=True)"
   ]
  },
  {
   "cell_type": "markdown",
   "id": "b22a18be-25aa-415f-b810-432107ac81b5",
   "metadata": {},
   "source": [
    "It is no longer the document 1, since the question in document 0 is much more similar to the user query than the question in document 1, and this impacts in final ranking."
   ]
  },
  {
   "cell_type": "markdown",
   "id": "cdee51f2-c5e4-4f43-b9ae-06f4a99c8cf1",
   "metadata": {},
   "source": [
    "# Q5. Selecting the embedding model"
   ]
  },
  {
   "cell_type": "code",
   "execution_count": 45,
   "id": "577222e5-e2bf-4360-b46c-c78bb6797933",
   "metadata": {},
   "outputs": [
    {
     "data": {
      "text/plain": [
       "{384, 512, 768, 1024}"
      ]
     },
     "execution_count": 45,
     "metadata": {},
     "output_type": "execute_result"
    }
   ],
   "source": [
    "all_sizes = {model_info['dim'] for model_info in TextEmbedding.list_supported_models()}\n",
    "all_sizes"
   ]
  },
  {
   "cell_type": "code",
   "execution_count": 46,
   "id": "33352db7-5cba-4896-b18d-92d4efada6c4",
   "metadata": {},
   "outputs": [
    {
     "data": {
      "text/plain": [
       "384"
      ]
     },
     "execution_count": 46,
     "metadata": {},
     "output_type": "execute_result"
    }
   ],
   "source": [
    "min(all_sizes)"
   ]
  },
  {
   "cell_type": "markdown",
   "id": "b213c091-85dc-4270-9f2c-9dead304df7f",
   "metadata": {},
   "source": [
    "# Q6. Indexing with qdrant"
   ]
  },
  {
   "cell_type": "code",
   "execution_count": 48,
   "id": "9e9e7998-15ad-425c-a689-8f95e8a7ca3a",
   "metadata": {},
   "outputs": [],
   "source": [
    "import requests \n",
    "\n",
    "docs_url = 'https://github.com/alexeygrigorev/llm-rag-workshop/raw/main/notebooks/documents.json'\n",
    "docs_response = requests.get(docs_url)\n",
    "documents_raw = docs_response.json()\n",
    "\n",
    "\n",
    "documents = []\n",
    "\n",
    "for course in documents_raw:\n",
    "    course_name = course['course']\n",
    "    if course_name != 'machine-learning-zoomcamp':\n",
    "        continue\n",
    "\n",
    "    for doc in course['documents']:\n",
    "        doc['course'] = course_name\n",
    "        documents.append(doc)"
   ]
  },
  {
   "cell_type": "code",
   "execution_count": 56,
   "id": "c908ab3f-d093-43b1-9205-fa8701fca4c9",
   "metadata": {},
   "outputs": [],
   "source": [
    "model_name = 'BAAI/bge-small-en'"
   ]
  },
  {
   "cell_type": "code",
   "execution_count": 53,
   "id": "9db19c93-02d8-4ddd-93ef-c3bda820e5e7",
   "metadata": {},
   "outputs": [],
   "source": [
    "client = QdrantClient(\"http://localhost:6333\")"
   ]
  },
  {
   "cell_type": "code",
   "execution_count": 54,
   "id": "bc86a570-f493-48bc-8161-14c07cb21ff4",
   "metadata": {},
   "outputs": [
    {
     "data": {
      "text/plain": [
       "True"
      ]
     },
     "execution_count": 54,
     "metadata": {},
     "output_type": "execute_result"
    }
   ],
   "source": [
    "# Define the collection name\n",
    "collection_name = \"zoomcamp-homework-02\"\n",
    "\n",
    "EMBEDDING_DIMENSIONALITY = 384\n",
    "\n",
    "# Create the collection with specified vector parameters\n",
    "client.create_collection(\n",
    "    collection_name=collection_name,\n",
    "    vectors_config=models.VectorParams(\n",
    "        size=EMBEDDING_DIMENSIONALITY,  # Dimensionality of the vectors\n",
    "        distance=models.Distance.COSINE  # Distance metric for similarity search\n",
    "    )\n",
    ")"
   ]
  },
  {
   "cell_type": "code",
   "execution_count": 57,
   "id": "9dd6b768-fd86-4e0a-9f37-eb8d754cb40e",
   "metadata": {},
   "outputs": [],
   "source": [
    "points = []\n",
    "id = 0\n",
    "\n",
    "for course in documents_raw:\n",
    "    for doc in course['documents']:\n",
    "\n",
    "        point = models.PointStruct(\n",
    "            id=id,\n",
    "            vector=models.Document(text=doc['question'] + ' ' + doc['text'], model=model_name),\n",
    "            payload={\n",
    "                \"text\": doc['text'],\n",
    "                \"section\": doc['section'],\n",
    "                \"course\": course['course']\n",
    "            }\n",
    "        )\n",
    "        points.append(point)\n",
    "\n",
    "        id += 1"
   ]
  },
  {
   "cell_type": "code",
   "execution_count": 58,
   "id": "e0650fa0-cb09-44f0-b772-c772bd0f9232",
   "metadata": {},
   "outputs": [
    {
     "data": {
      "application/vnd.jupyter.widget-view+json": {
       "model_id": "63524138d0aa427a8317a5a03073e124",
       "version_major": 2,
       "version_minor": 0
      },
      "text/plain": [
       "Fetching 5 files:   0%|          | 0/5 [00:00<?, ?it/s]"
      ]
     },
     "metadata": {},
     "output_type": "display_data"
    },
    {
     "data": {
      "application/vnd.jupyter.widget-view+json": {
       "model_id": "0d5c2f251248473ab48cd673769f6124",
       "version_major": 2,
       "version_minor": 0
      },
      "text/plain": [
       "model_optimized.onnx:   0%|          | 0.00/133M [00:00<?, ?B/s]"
      ]
     },
     "metadata": {},
     "output_type": "display_data"
    },
    {
     "data": {
      "application/vnd.jupyter.widget-view+json": {
       "model_id": "9829c8b9c95144f1b2cf41f5d62e8eec",
       "version_major": 2,
       "version_minor": 0
      },
      "text/plain": [
       "config.json:   0%|          | 0.00/701 [00:00<?, ?B/s]"
      ]
     },
     "metadata": {},
     "output_type": "display_data"
    },
    {
     "data": {
      "application/vnd.jupyter.widget-view+json": {
       "model_id": "f9208ba45fb8486cb0a3c29ba142f69d",
       "version_major": 2,
       "version_minor": 0
      },
      "text/plain": [
       "tokenizer_config.json:   0%|          | 0.00/366 [00:00<?, ?B/s]"
      ]
     },
     "metadata": {},
     "output_type": "display_data"
    },
    {
     "data": {
      "application/vnd.jupyter.widget-view+json": {
       "model_id": "71152c9155a74d8b944b883388d5eff2",
       "version_major": 2,
       "version_minor": 0
      },
      "text/plain": [
       "special_tokens_map.json:   0%|          | 0.00/125 [00:00<?, ?B/s]"
      ]
     },
     "metadata": {},
     "output_type": "display_data"
    },
    {
     "data": {
      "application/vnd.jupyter.widget-view+json": {
       "model_id": "c95788e071ec40d3babaf1b1859847bb",
       "version_major": 2,
       "version_minor": 0
      },
      "text/plain": [
       "tokenizer.json:   0%|          | 0.00/711k [00:00<?, ?B/s]"
      ]
     },
     "metadata": {},
     "output_type": "display_data"
    },
    {
     "data": {
      "text/plain": [
       "UpdateResult(operation_id=0, status=<UpdateStatus.COMPLETED: 'completed'>)"
      ]
     },
     "execution_count": 58,
     "metadata": {},
     "output_type": "execute_result"
    }
   ],
   "source": [
    "client.upsert(\n",
    "    collection_name=collection_name,\n",
    "    points=points\n",
    ")"
   ]
  },
  {
   "cell_type": "code",
   "execution_count": 59,
   "id": "5fdf887e-234c-49c0-8d86-c62bf89cb14c",
   "metadata": {},
   "outputs": [],
   "source": [
    "def search(query, limit=1):\n",
    "\n",
    "    results = client.query_points(\n",
    "        collection_name=collection_name,\n",
    "        query=models.Document(\n",
    "            text=query,\n",
    "            model=model_name \n",
    "        ),\n",
    "        limit=limit,\n",
    "        with_payload=True\n",
    "    )\n",
    "\n",
    "    return results"
   ]
  },
  {
   "cell_type": "code",
   "execution_count": 63,
   "id": "8938d1ba-edd5-4663-8270-e77341ad88c9",
   "metadata": {},
   "outputs": [
    {
     "data": {
      "text/plain": [
       "0.8703172"
      ]
     },
     "execution_count": 63,
     "metadata": {},
     "output_type": "execute_result"
    }
   ],
   "source": [
    "search(query).points[0].score"
   ]
  }
 ],
 "metadata": {
  "kernelspec": {
   "display_name": "Python 3 (ipykernel)",
   "language": "python",
   "name": "python3"
  },
  "language_info": {
   "codemirror_mode": {
    "name": "ipython",
    "version": 3
   },
   "file_extension": ".py",
   "mimetype": "text/x-python",
   "name": "python",
   "nbconvert_exporter": "python",
   "pygments_lexer": "ipython3",
   "version": "3.12.11"
  }
 },
 "nbformat": 4,
 "nbformat_minor": 5
}
